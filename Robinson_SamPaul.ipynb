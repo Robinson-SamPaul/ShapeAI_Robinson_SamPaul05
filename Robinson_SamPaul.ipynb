{
  "nbformat": 4,
  "nbformat_minor": 0,
  "metadata": {
    "colab": {
      "name": "df.ipynb",
      "provenance": []
    },
    "kernelspec": {
      "name": "python3",
      "display_name": "Python 3"
    },
    "language_info": {
      "name": "python"
    }
  },
  "cells": [
    {
      "cell_type": "code",
      "metadata": {
        "id": "F5tnWzhyLy1F"
      },
      "source": [
        "import hashlib as hb"
      ],
      "execution_count": 1,
      "outputs": []
    },
    {
      "cell_type": "code",
      "metadata": {
        "id": "YO7GCZm1L8RH"
      },
      "source": [
        "Str = \"Hello\"\n",
        "Salt = Str + \"ShapeAI\""
      ],
      "execution_count": 2,
      "outputs": []
    },
    {
      "cell_type": "code",
      "metadata": {
        "id": "TcJop9u_MAWC"
      },
      "source": [
        "Hash1 = hb.md5(Str.encode()).hexdigest()\n",
        "Hash2 = hb.sha1(Str.encode()).hexdigest()\n",
        "Hash3 = hb.sha224(Str.encode()).hexdigest()\n",
        "Hash4 = hb.sha256(Str.encode()).hexdigest()\n",
        "Hash5 = hb.sha384(Str.encode()).hexdigest()\n",
        "Hash6 = hb.sha512(Str.encode()).hexdigest()\n",
        "Hash7 = hb.md5(Salt.encode()).hexdigest()"
      ],
      "execution_count": 3,
      "outputs": []
    },
    {
      "cell_type": "code",
      "metadata": {
        "id": "J2_AYGiNMEtu"
      },
      "source": [
        "a = ['md5','sha','sha224','sha256','sha384','sha512','After_Salting']\n",
        "b = [Hash1,Hash2,Hash3,Hash4,Hash5,Hash6,Hash7]"
      ],
      "execution_count": 4,
      "outputs": []
    },
    {
      "cell_type": "code",
      "metadata": {
        "colab": {
          "base_uri": "https://localhost:8080/"
        },
        "id": "4mgBb4yoMIVp",
        "outputId": "75b7a506-2c04-47c0-891d-a0957a8a4fbe"
      },
      "source": [
        "for i in range(7):\n",
        "    print(\"The Hexadecimal Equivalent of\",a[i],\"for 'Hello' is\",b[i],\"\\n\")"
      ],
      "execution_count": 5,
      "outputs": [
        {
          "output_type": "stream",
          "text": [
            "The Hexadecimal Equivalent of md5 for 'Hello' is 8b1a9953c4611296a827abf8c47804d7 \n",
            "\n",
            "The Hexadecimal Equivalent of sha for 'Hello' is f7ff9e8b7bb2e09b70935a5d785e0cc5d9d0abf0 \n",
            "\n",
            "The Hexadecimal Equivalent of sha224 for 'Hello' is 4149da18aa8bfc2b1e382c6c26556d01a92c261b6436dad5e3be3fcc \n",
            "\n",
            "The Hexadecimal Equivalent of sha256 for 'Hello' is 185f8db32271fe25f561a6fc938b2e264306ec304eda518007d1764826381969 \n",
            "\n",
            "The Hexadecimal Equivalent of sha384 for 'Hello' is 3519fe5ad2c596efe3e276a6f351b8fc0b03db861782490d45f7598ebd0ab5fd5520ed102f38c4a5ec834e98668035fc \n",
            "\n",
            "The Hexadecimal Equivalent of sha512 for 'Hello' is 3615f80c9d293ed7402687f94b22d58e529b8cc7916f8fac7fddf7fbd5af4cf777d3d795a7a00a16bf7e7f3fb9561ee9baae480da9fe7a18769e71886b03f315 \n",
            "\n",
            "The Hexadecimal Equivalent of After_Salting for 'Hello' is 15bd0b465fbb6c57ba0435308f0fd43a \n",
            "\n"
          ],
          "name": "stdout"
        }
      ]
    }
  ]
}